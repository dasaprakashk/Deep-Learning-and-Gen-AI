{
 "cells": [
  {
   "cell_type": "code",
   "execution_count": 22,
   "id": "13297425",
   "metadata": {},
   "outputs": [
    {
     "name": "stdout",
     "output_type": "stream",
     "text": [
      "Training on GPU\n"
     ]
    }
   ],
   "source": [
    "import torch\n",
    "import numpy as np\n",
    "\n",
    "if torch.backends.mps.is_available():\n",
    "    print(\"Training on GPU\")\n",
    "    device =\"mps\"\n",
    "else:\n",
    "    print(\"Training on CPU\")\n",
    "    device=\"cpu\""
   ]
  },
  {
   "cell_type": "code",
   "execution_count": 17,
   "id": "2e3775ef",
   "metadata": {},
   "outputs": [],
   "source": [
    "import ssl\n",
    "ssl._create_default_https_context = ssl._create_unverified_context"
   ]
  },
  {
   "cell_type": "code",
   "execution_count": 18,
   "id": "8b998a0b",
   "metadata": {},
   "outputs": [
    {
     "name": "stdout",
     "output_type": "stream",
     "text": [
      "Files already downloaded and verified\n",
      "Files already downloaded and verified\n"
     ]
    }
   ],
   "source": [
    "from torchvision import datasets\n",
    "import torchvision.transforms as transforms\n",
    "from torch.utils.data.sampler import SubsetRandomSampler\n",
    "\n",
    "num_workers = 0\n",
    "batch_size = 20\n",
    "valid_size = 0.2\n",
    "\n",
    "transform = transforms.Compose([\n",
    "                transforms.ToTensor(),\n",
    "                transforms.Normalize((0.5), (0.5))\n",
    "            ])\n",
    "\n",
    "train_data = datasets.CIFAR10('cifar_data/', train=True, download=True, transform=transform)\n",
    "test_data = datasets.CIFAR10('cifar_data', train=False, download=True, transform=transform)\n",
    "\n",
    "num_train = len(train_data)\n",
    "indices = list(range(num_train))\n",
    "np.random.shuffle(indices)\n",
    "split = int(np.floor(valid_size*num_train))\n",
    "train_index, valid_index = indices[split:], indices[:split]\n",
    "\n",
    "train_sampler = SubsetRandomSampler(train_index)\n",
    "valid_sampler = SubsetRandomSampler(valid_index)\n",
    "\n",
    "train_loader = torch.utils.data.DataLoader(train_data, batch_size=batch_size, \n",
    "                                           sampler=train_sampler, num_workers=num_workers)\n",
    "valid_loader = torch.utils.data.DataLoader(train_data, batch_size=batch_size, \n",
    "                                           sampler=valid_sampler, num_workers=num_workers)\n",
    "test_loader = torch.utils.data.DataLoader(test_data, batch_size=batch_size, num_workers=num_workers)"
   ]
  },
  {
   "cell_type": "code",
   "execution_count": 32,
   "id": "96b9bcc6",
   "metadata": {},
   "outputs": [],
   "source": [
    "import torch.nn as nn\n",
    "import torch.nn.functional as F\n",
    "\n",
    "class Net(nn.Module):\n",
    "    def __init__(self):\n",
    "        super(Net, self).__init__()\n",
    "        #Input to convolutional layer is 32x32x3 image\n",
    "        self.conv1 = nn.Conv2d(3, 16, 3, padding=1)\n",
    "        #convolutional layer(sees 16x16x16 tensor)\n",
    "        self.conv2 = nn.Conv2d(16, 32, 3, padding=1)\n",
    "        #convolutional layer(sees 8x8x32 tensor)\n",
    "        self.conv3 = nn.Conv2d(32, 64, 3, padding=1)\n",
    "        #max pooling layer\n",
    "        self.pool = nn.MaxPool2d(2,2)\n",
    "        #Linear layer (64*4*4 -> 500)\n",
    "        self.fc1 = nn.Linear(64*4*4, 500)\n",
    "        #Linear layer (500 -> 10)\n",
    "        self.fc2 = nn.Linear(500, 10)\n",
    "        #dropout layer\n",
    "        self.dropout = nn.Dropout(0.25)\n",
    "        \n",
    "    def forward(self, x):\n",
    "        #sequence of convolutional and max pooling layers\n",
    "        x = self.pool(F.relu(self.conv1(x)))\n",
    "        x = self.pool(F.relu(self.conv2(x)))\n",
    "        x = self.pool(F.relu(self.conv3(x)))\n",
    "        #flatten image input\n",
    "        x = x.view(-1, 64*4*4)\n",
    "        #add dropout layer\n",
    "        x = self.dropout(x)\n",
    "        #add first hidden layer with relu activation function\n",
    "        x = F.relu(self.fc1(x))\n",
    "        #add dropout layer\n",
    "        x = self.dropout(x)\n",
    "        #add second hidden layer with relu activation function\n",
    "        x = self.fc2(x)\n",
    "        return x        "
   ]
  },
  {
   "cell_type": "code",
   "execution_count": 33,
   "id": "e757bd62",
   "metadata": {},
   "outputs": [
    {
     "data": {
      "text/plain": [
       "Net(\n",
       "  (conv1): Conv2d(3, 16, kernel_size=(3, 3), stride=(1, 1), padding=(1, 1))\n",
       "  (conv2): Conv2d(16, 32, kernel_size=(3, 3), stride=(1, 1), padding=(1, 1))\n",
       "  (conv3): Conv2d(32, 64, kernel_size=(3, 3), stride=(1, 1), padding=(1, 1))\n",
       "  (pool): MaxPool2d(kernel_size=2, stride=2, padding=0, dilation=1, ceil_mode=False)\n",
       "  (fc1): Linear(in_features=1024, out_features=500, bias=True)\n",
       "  (fc2): Linear(in_features=500, out_features=10, bias=True)\n",
       "  (dropout): Dropout(p=0.25, inplace=False)\n",
       ")"
      ]
     },
     "execution_count": 33,
     "metadata": {},
     "output_type": "execute_result"
    }
   ],
   "source": [
    "model = Net()\n",
    "model.to(device)"
   ]
  },
  {
   "cell_type": "code",
   "execution_count": 34,
   "id": "cec9ffab",
   "metadata": {},
   "outputs": [
    {
     "name": "stdout",
     "output_type": "stream",
     "text": [
      "Epoch:1 \tTraining Loss:1.6961045527458192 \tValidation Loss:0.3668908120155335\n",
      "Validation loss decreased: (   inf --> 0.366891. Saving model...\n",
      "Epoch:2 \tTraining Loss:1.3569602586269378 \tValidation Loss:0.31991595726013183\n",
      "Validation loss decreased: (0.366891 --> 0.319916. Saving model...\n",
      "Epoch:3 \tTraining Loss:1.209359387111664 \tValidation Loss:0.28671665382385253\n",
      "Validation loss decreased: (0.319916 --> 0.286717. Saving model...\n",
      "Epoch:4 \tTraining Loss:1.1113173503160476 \tValidation Loss:0.2698587891817093\n",
      "Validation loss decreased: (0.286717 --> 0.269859. Saving model...\n",
      "Epoch:5 \tTraining Loss:1.0342878309726715 \tValidation Loss:0.25393353950977327\n",
      "Validation loss decreased: (0.269859 --> 0.253934. Saving model...\n",
      "Epoch:6 \tTraining Loss:0.9693242420911788 \tValidation Loss:0.23772096421718597\n",
      "Validation loss decreased: (0.253934 --> 0.237721. Saving model...\n",
      "Epoch:7 \tTraining Loss:0.9092762155771256 \tValidation Loss:0.2300840200662613\n",
      "Validation loss decreased: (0.237721 --> 0.230084. Saving model...\n",
      "Epoch:8 \tTraining Loss:0.8639679864406585 \tValidation Loss:0.21893690519332887\n",
      "Validation loss decreased: (0.230084 --> 0.218937. Saving model...\n",
      "Epoch:9 \tTraining Loss:0.8176365175604821 \tValidation Loss:0.21118812965154649\n",
      "Validation loss decreased: (0.218937 --> 0.211188. Saving model...\n",
      "Epoch:10 \tTraining Loss:0.774174719119072 \tValidation Loss:0.2033265811085701\n",
      "Validation loss decreased: (0.211188 --> 0.203327. Saving model...\n",
      "Epoch:11 \tTraining Loss:0.7361950302481651 \tValidation Loss:0.19664755082130433\n",
      "Validation loss decreased: (0.203327 --> 0.196648. Saving model...\n",
      "Epoch:12 \tTraining Loss:0.7038248391270637 \tValidation Loss:0.18866278126239777\n",
      "Validation loss decreased: (0.196648 --> 0.188663. Saving model...\n",
      "Epoch:13 \tTraining Loss:0.6690108170032502 \tValidation Loss:0.18629641835689545\n",
      "Validation loss decreased: (0.188663 --> 0.186296. Saving model...\n",
      "Epoch:14 \tTraining Loss:0.6408563463747501 \tValidation Loss:0.18170192259550094\n",
      "Validation loss decreased: (0.186296 --> 0.181702. Saving model...\n",
      "Epoch:15 \tTraining Loss:0.6102555830299854 \tValidation Loss:0.18615743000507354\n",
      "Epoch:16 \tTraining Loss:0.5870163666248321 \tValidation Loss:0.17700079019069673\n",
      "Validation loss decreased: (0.181702 --> 0.177001. Saving model...\n",
      "Epoch:17 \tTraining Loss:0.5643467588245868 \tValidation Loss:0.17732020201683044\n",
      "Epoch:18 \tTraining Loss:0.5401665996015071 \tValidation Loss:0.1767096961259842\n",
      "Validation loss decreased: (0.177001 --> 0.176710. Saving model...\n",
      "Epoch:19 \tTraining Loss:0.517353890812397 \tValidation Loss:0.17332964018583297\n",
      "Validation loss decreased: (0.176710 --> 0.173330. Saving model...\n",
      "Epoch:20 \tTraining Loss:0.4971173257023096 \tValidation Loss:0.1723428039908409\n",
      "Validation loss decreased: (0.173330 --> 0.172343. Saving model...\n",
      "Epoch:21 \tTraining Loss:0.47668137747049333 \tValidation Loss:0.1708610891222954\n",
      "Validation loss decreased: (0.172343 --> 0.170861. Saving model...\n",
      "Epoch:22 \tTraining Loss:0.45599244405031203 \tValidation Loss:0.1740565622150898\n",
      "Epoch:23 \tTraining Loss:0.4356557007372379 \tValidation Loss:0.17457792408466338\n",
      "Epoch:24 \tTraining Loss:0.4184934359639883 \tValidation Loss:0.1749923690736294\n",
      "Epoch:25 \tTraining Loss:0.4006456899166107 \tValidation Loss:0.17971559715867041\n",
      "Epoch:26 \tTraining Loss:0.385056127050519 \tValidation Loss:0.18284877818226813\n",
      "Epoch:27 \tTraining Loss:0.370140834595263 \tValidation Loss:0.18007208587527276\n",
      "Epoch:28 \tTraining Loss:0.35143526962399485 \tValidation Loss:0.1811786281645298\n",
      "Epoch:29 \tTraining Loss:0.340137506839633 \tValidation Loss:0.17891945345401764\n",
      "Epoch:30 \tTraining Loss:0.3258278850376606 \tValidation Loss:0.186980246001482\n"
     ]
    }
   ],
   "source": [
    "import torch.optim as optim\n",
    "\n",
    "#Loss function\n",
    "criterion = nn.CrossEntropyLoss()\n",
    "\n",
    "#Optimization function\n",
    "optimizer = optim.SGD(model.parameters(), lr=0.01)\n",
    "\n",
    "#Training epochs\n",
    "epochs = 30\n",
    "\n",
    "#\n",
    "valid_loss_min = np.Inf\n",
    "\n",
    "for epoch in range(epochs):\n",
    "    #Monitor training and validation loss\n",
    "    train_loss = 0\n",
    "    valid_loss = 0\n",
    "    \n",
    "    #TRAINING\n",
    "    for data, target in train_loader:\n",
    "        #Clear gradients\n",
    "        optimizer.zero_grad()\n",
    "        #Get the prediction\n",
    "        output = model(data.to(device))\n",
    "        #Calculate the loss\n",
    "        loss = criterion(output, target.to(device))\n",
    "        #back propogation\n",
    "        loss.backward()\n",
    "        #parameter update\n",
    "        optimizer.step()\n",
    "        #Update training loss\n",
    "        train_loss += loss.item()*data.size(0)\n",
    "    \n",
    "    #VALIDATION\n",
    "    for data, target in valid_loader:\n",
    "        #Get the prediction\n",
    "        output = model(data.to(device))\n",
    "        #Calculate the loss\n",
    "        loss = criterion(output, target.to(device))\n",
    "        #Update validation loss\n",
    "        valid_loss += loss.item()*data.size(0)\n",
    "        \n",
    "    train_loss = train_loss/len(train_loader.dataset)\n",
    "    valid_loss = valid_loss/len(valid_loader.dataset)\n",
    "    print(\"Epoch:{} \\tTraining Loss:{} \\tValidation Loss:{}\".format(epoch+1, train_loss, valid_loss))\n",
    "    \n",
    "    if valid_loss < valid_loss_min:\n",
    "        print(\"Validation loss decreased: ({:6f} --> {:6f}. Saving model...\".format(valid_loss_min, valid_loss))\n",
    "        torch.save(model.state_dict(), \"model.pt\")\n",
    "        valid_loss_min = valid_loss"
   ]
  },
  {
   "cell_type": "code",
   "execution_count": 35,
   "id": "c2200336",
   "metadata": {},
   "outputs": [
    {
     "data": {
      "text/plain": [
       "<All keys matched successfully>"
      ]
     },
     "execution_count": 35,
     "metadata": {},
     "output_type": "execute_result"
    }
   ],
   "source": [
    "model.load_state_dict(torch.load('model.pt'))"
   ]
  },
  {
   "cell_type": "code",
   "execution_count": 48,
   "id": "318ae137",
   "metadata": {},
   "outputs": [
    {
     "name": "stdout",
     "output_type": "stream",
     "text": [
      "Test Loss:0.8962790278792381\n",
      "Test Accuracy of     0: 79% (793/1000)\n",
      "Test Accuracy of     1: 85% (857/1000)\n",
      "Test Accuracy of     2: 57% (573/1000)\n",
      "Test Accuracy of     3: 49% (496/1000)\n",
      "Test Accuracy of     4: 62% (624/1000)\n",
      "Test Accuracy of     5: 62% (620/1000)\n",
      "Test Accuracy of     6: 79% (796/1000)\n",
      "Test Accuracy of     7: 77% (774/1000)\n",
      "Test Accuracy of     8: 83% (832/1000)\n",
      "Test Accuracy of     9: 70% (700/1000)\n",
      "\n",
      "Test Accuracy (overall):70% (7065/10000)\n"
     ]
    }
   ],
   "source": [
    "test_loss = 0.0\n",
    "class_correct = list(0. for i in range(10))\n",
    "class_total = list(0. for i in range(10))\n",
    "\n",
    "for data, target in test_loader:\n",
    "    data = data.to(device)\n",
    "    target = target.to(device)\n",
    "    output = model(data)\n",
    "    \n",
    "    \n",
    "    loss = criterion(output, target)\n",
    "    \n",
    "    test_loss += loss.item()*data.size(0)\n",
    "    \n",
    "    _, pred = torch.max(output, 1)\n",
    "    \n",
    "    correct = np.squeeze(pred.eq(target.to(device).data.view_as(pred)))\n",
    "    \n",
    "    for i in range(batch_size):\n",
    "        label = target.data[i]\n",
    "        class_correct[label] += correct[i].data.cpu()\n",
    "        class_total[label] += 1\n",
    "test_loss = test_loss/len(test_loader.dataset)\n",
    "print(\"Test Loss:{}\".format(test_loss))\n",
    "    \n",
    "for i in range(10):\n",
    "    if class_total[i] > 0:\n",
    "        print(\"Test Accuracy of %5s: %2d%% (%2d/%2d)\" % (str(i), \n",
    "              100*class_correct[i]/class_total[i], class_correct[i], class_total[i]))\n",
    "    else:\n",
    "        print(\"Test Accuracy of %5s: N/A (no training examples)\" % (classes[i]))\n",
    "print('\\nTest Accuracy (overall):%2d%% (%2d/%2d)' % (100. * np.sum(class_correct)/np.sum(class_total),\n",
    "        np.sum(class_correct), np.sum(class_total)))"
   ]
  },
  {
   "cell_type": "code",
   "execution_count": null,
   "id": "2992089a",
   "metadata": {},
   "outputs": [],
   "source": []
  }
 ],
 "metadata": {
  "kernelspec": {
   "display_name": "Python 3 (ipykernel)",
   "language": "python",
   "name": "python3"
  },
  "language_info": {
   "codemirror_mode": {
    "name": "ipython",
    "version": 3
   },
   "file_extension": ".py",
   "mimetype": "text/x-python",
   "name": "python",
   "nbconvert_exporter": "python",
   "pygments_lexer": "ipython3",
   "version": "3.9.10"
  }
 },
 "nbformat": 4,
 "nbformat_minor": 5
}
