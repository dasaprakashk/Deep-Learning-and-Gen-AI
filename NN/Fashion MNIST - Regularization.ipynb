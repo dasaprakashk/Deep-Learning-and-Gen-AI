{
 "cells": [
  {
   "cell_type": "code",
   "execution_count": 1,
   "id": "126cd12a",
   "metadata": {},
   "outputs": [],
   "source": [
    "import torch\n",
    "import torch.nn.functional as F\n",
    "from torch import nn, optim\n",
    "import numpy as np\n",
    "import matplotlib.pyplot as plt\n",
    "from torchvision import datasets, transforms"
   ]
  },
  {
   "cell_type": "code",
   "execution_count": 2,
   "id": "aea9b92b",
   "metadata": {},
   "outputs": [],
   "source": [
    "#Transform to normalize the data\n",
    "transform = transforms.Compose([transforms.ToTensor(),\n",
    "                               transforms.Normalize((0.5), (0.5))])\n",
    "trainset = datasets.FashionMNIST('Fashion_MNIST_data/', download=True, train=True, transform=transform)\n",
    "trainloader = torch.utils.data.DataLoader(trainset, batch_size=64, shuffle=True)\n",
    "\n",
    "testset = datasets.FashionMNIST('Fashion_MNIST_data/', download=True, train=False, transform=transform)\n",
    "testloader = torch.utils.data.DataLoader(testset, batch_size=64, shuffle=True)"
   ]
  },
  {
   "cell_type": "code",
   "execution_count": 3,
   "id": "355b0516",
   "metadata": {},
   "outputs": [
    {
     "data": {
      "text/plain": [
       "torch.Size([64, 1, 28, 28])"
      ]
     },
     "execution_count": 3,
     "metadata": {},
     "output_type": "execute_result"
    }
   ],
   "source": [
    "images, labels = next(iter(trainloader))\n",
    "images.shape"
   ]
  },
  {
   "cell_type": "code",
   "execution_count": 4,
   "id": "02f3b65a",
   "metadata": {},
   "outputs": [],
   "source": [
    "class Classifier(nn.Module):\n",
    "    def __init__(self):\n",
    "        super().__init__()\n",
    "        self.fc1 = nn.Linear(784, 256)\n",
    "        self.fc2 = nn.Linear(256, 128)\n",
    "        self.fc3 = nn.Linear(128, 64)\n",
    "        self.fc4 = nn.Linear(64, 10)\n",
    "        \n",
    "        self.dropout = nn.Dropout(p=0.2)\n",
    "        \n",
    "    def forward(self, x):\n",
    "        x = x.view(x.shape[0], -1)\n",
    "        \n",
    "        #Add dropout\n",
    "        x = self.dropout(F.relu(self.fc1(x)))\n",
    "        x = self.dropout(F.relu(self.fc2(x)))\n",
    "        x = self.dropout(F.relu(self.fc3(x)))\n",
    "        \n",
    "        x = F.log_softmax(self.fc4(x), dim=1)\n",
    "        return x"
   ]
  },
  {
   "cell_type": "code",
   "execution_count": 9,
   "id": "863d607c",
   "metadata": {},
   "outputs": [
    {
     "name": "stdout",
     "output_type": "stream",
     "text": [
      "Epoch: 1/30... Training Loss: 0.602 Testing Loss: 0.470 Test Accuracy: 0.830\n",
      "Epoch: 2/30... Training Loss: 0.480 Testing Loss: 0.448 Test Accuracy: 0.835\n",
      "Epoch: 3/30... Training Loss: 0.449 Testing Loss: 0.428 Test Accuracy: 0.849\n",
      "Epoch: 4/30... Training Loss: 0.432 Testing Loss: 0.406 Test Accuracy: 0.855\n",
      "Epoch: 5/30... Training Loss: 0.419 Testing Loss: 0.432 Test Accuracy: 0.845\n",
      "Epoch: 6/30... Training Loss: 0.418 Testing Loss: 0.404 Test Accuracy: 0.859\n",
      "Epoch: 7/30... Training Loss: 0.401 Testing Loss: 0.394 Test Accuracy: 0.859\n",
      "Epoch: 8/30... Training Loss: 0.394 Testing Loss: 0.407 Test Accuracy: 0.857\n",
      "Epoch: 9/30... Training Loss: 0.391 Testing Loss: 0.429 Test Accuracy: 0.862\n",
      "Epoch: 10/30... Training Loss: 0.383 Testing Loss: 0.392 Test Accuracy: 0.867\n",
      "Epoch: 11/30... Training Loss: 0.385 Testing Loss: 0.394 Test Accuracy: 0.864\n",
      "Epoch: 12/30... Training Loss: 0.380 Testing Loss: 0.379 Test Accuracy: 0.865\n",
      "Epoch: 13/30... Training Loss: 0.370 Testing Loss: 0.379 Test Accuracy: 0.864\n",
      "Epoch: 14/30... Training Loss: 0.377 Testing Loss: 0.383 Test Accuracy: 0.867\n",
      "Epoch: 15/30... Training Loss: 0.365 Testing Loss: 0.383 Test Accuracy: 0.874\n",
      "Epoch: 16/30... Training Loss: 0.363 Testing Loss: 0.396 Test Accuracy: 0.872\n",
      "Epoch: 17/30... Training Loss: 0.366 Testing Loss: 0.387 Test Accuracy: 0.872\n",
      "Epoch: 18/30... Training Loss: 0.363 Testing Loss: 0.395 Test Accuracy: 0.866\n",
      "Epoch: 19/30... Training Loss: 0.367 Testing Loss: 0.403 Test Accuracy: 0.866\n",
      "Epoch: 20/30... Training Loss: 0.360 Testing Loss: 0.379 Test Accuracy: 0.871\n",
      "Epoch: 21/30... Training Loss: 0.354 Testing Loss: 0.383 Test Accuracy: 0.875\n",
      "Epoch: 22/30... Training Loss: 0.345 Testing Loss: 0.379 Test Accuracy: 0.869\n",
      "Epoch: 23/30... Training Loss: 0.352 Testing Loss: 0.386 Test Accuracy: 0.876\n",
      "Epoch: 24/30... Training Loss: 0.356 Testing Loss: 0.374 Test Accuracy: 0.873\n",
      "Epoch: 25/30... Training Loss: 0.345 Testing Loss: 0.387 Test Accuracy: 0.874\n",
      "Epoch: 26/30... Training Loss: 0.354 Testing Loss: 0.397 Test Accuracy: 0.870\n",
      "Epoch: 27/30... Training Loss: 0.349 Testing Loss: 0.382 Test Accuracy: 0.873\n",
      "Epoch: 28/30... Training Loss: 0.344 Testing Loss: 0.366 Test Accuracy: 0.879\n",
      "Epoch: 29/30... Training Loss: 0.334 Testing Loss: 0.373 Test Accuracy: 0.874\n",
      "Epoch: 30/30... Training Loss: 0.340 Testing Loss: 0.393 Test Accuracy: 0.876\n"
     ]
    }
   ],
   "source": [
    "model = Classifier()\n",
    "criterion = nn.NLLLoss()\n",
    "optimizer = optim.Adam(model.parameters(), lr=0.003)\n",
    "epochs = 30\n",
    "steps = 0\n",
    "\n",
    "train_losses, test_losses = [], []\n",
    "for e in range(epochs):\n",
    "    running_loss = 0\n",
    "    for images, labels in trainloader:\n",
    "        images = images.resize_(images.shape[0], 784)\n",
    "        \n",
    "        optimizer.zero_grad()\n",
    "        \n",
    "        output = model.forward(images)\n",
    "        loss = criterion(output, labels)\n",
    "        loss.backward()\n",
    "        optimizer.step()\n",
    "        \n",
    "        running_loss += loss.item()\n",
    "    else:\n",
    "        test_loss = 0\n",
    "        accuracy = 0\n",
    "        with torch.no_grad():\n",
    "            model.eval()\n",
    "            for images, labels in testloader:\n",
    "                images = images.resize_(images.shape[0], 784)\n",
    "                log_ps = model.forward(images)\n",
    "                test_loss += criterion(log_ps, labels) \n",
    "                \n",
    "                ps = torch.exp(log_ps)\n",
    "                top_p, top_class = ps.topk(1, dim=1)\n",
    "                equals = top_class == labels.view(*top_class.shape)\n",
    "                accuracy += torch.mean(equals.type(torch.FloatTensor))\n",
    "                \n",
    "        model.train()\n",
    "        \n",
    "        train_losses.append(running_loss/len(trainloader))\n",
    "        test_losses.append(test_loss/len(testloader))\n",
    "        \n",
    "        print(\"Epoch: {}/{}...\".format(e+1, epochs),\n",
    "              \"Training Loss: {:.3f}\".format(running_loss/len(trainloader)),\n",
    "              \"Testing Loss: {:.3f}\".format(test_loss/len(testloader)),\n",
    "              \"Test Accuracy: {:.3f}\".format(accuracy/len(testloader)))"
   ]
  },
  {
   "cell_type": "code",
   "execution_count": 10,
   "id": "9b2d0e0e",
   "metadata": {},
   "outputs": [
    {
     "data": {
      "text/plain": [
       "[<matplotlib.lines.Line2D at 0x125d620d0>]"
      ]
     },
     "execution_count": 10,
     "metadata": {},
     "output_type": "execute_result"
    },
    {
     "data": {
      "image/png": "[encoded data removed]",
      "text/plain": [
       "<Figure size 432x288 with 1 Axes>"
      ]
     },
     "metadata": {
      "needs_background": "light"
     },
     "output_type": "display_data"
    }
   ],
   "source": [
    "plt.plot(train_losses, label='Training loss')\n",
    "plt.plot(test_losses, label='Validation loss')"
   ]
  },
  {
   "cell_type": "code",
   "execution_count": 13,
   "id": "046b325a",
   "metadata": {},
   "outputs": [
    {
     "name": "stdout",
     "output_type": "stream",
     "text": [
      "Our model:\n",
      "\n",
      " Classifier(\n",
      "  (fc1): Linear(in_features=784, out_features=256, bias=True)\n",
      "  (fc2): Linear(in_features=256, out_features=128, bias=True)\n",
      "  (fc3): Linear(in_features=128, out_features=64, bias=True)\n",
      "  (fc4): Linear(in_features=64, out_features=10, bias=True)\n",
      "  (dropout): Dropout(p=0.2, inplace=False)\n",
      ") \n",
      "\n",
      "The state dict keys: \n",
      "\n",
      " odict_keys(['fc1.weight', 'fc1.bias', 'fc2.weight', 'fc2.bias', 'fc3.weight', 'fc3.bias', 'fc4.weight', 'fc4.bias'])\n"
     ]
    }
   ],
   "source": [
    "print(\"Our model:\\n\\n\" , model, '\\n')\n",
    "print(\"The state dict keys: \\n\\n\", model.state_dict().keys())"
   ]
  },
  {
   "cell_type": "code",
   "execution_count": 14,
   "id": "64a47798",
   "metadata": {},
   "outputs": [],
   "source": [
    "torch.save(model.state_dict(), 'checkpoint.pth')"
   ]
  },
  {
   "cell_type": "code",
   "execution_count": 11,
   "id": "64f7621e",
   "metadata": {},
   "outputs": [],
   "source": [
    "import numpy as np\n",
    "def view_classify(img, ps, version=\"MNIST\"):\n",
    "    ''' Function for viewing an image and it's predicted classes.\n",
    "    '''\n",
    "    ps = ps.data.numpy().squeeze()\n",
    "\n",
    "    fig, (ax1, ax2) = plt.subplots(figsize=(6,9), ncols=2)\n",
    "    ax1.imshow(img.resize_(1, 28, 28).numpy().squeeze())\n",
    "    ax1.axis('off')\n",
    "    ax2.barh(np.arange(10), ps)\n",
    "    ax2.set_aspect(0.1)\n",
    "    ax2.set_yticks(np.arange(10))\n",
    "    if version == \"MNIST\":\n",
    "        ax2.set_yticklabels(np.arange(10))\n",
    "    elif version == \"Fashion\":\n",
    "        ax2.set_yticklabels(['T-shirt/top',\n",
    "                            'Trouser',\n",
    "                            'Pullover',\n",
    "                            'Dress',\n",
    "                            'Coat',\n",
    "                            'Sandal',\n",
    "                            'Shirt',\n",
    "                            'Sneaker',\n",
    "                            'Bag',\n",
    "                            'Ankle Boot'], size='small');\n",
    "    ax2.set_title('Class Probability')\n",
    "    ax2.set_xlim(0, 1.1)\n",
    "\n",
    "    plt.tight_layout()"
   ]
  },
  {
   "cell_type": "code",
   "execution_count": 12,
   "id": "8974618d",
   "metadata": {},
   "outputs": [
    {
     "data": {
      "image/png": "[encoded data removed]",
      "text/plain": [
       "<Figure size 432x648 with 2 Axes>"
      ]
     },
     "metadata": {
      "needs_background": "light"
     },
     "output_type": "display_data"
    }
   ],
   "source": [
    "import torch.nn.functional as F\n",
    "images, labels = next(iter(testloader))\n",
    "img = images[0].resize(1, 784)\n",
    "with torch.no_grad():\n",
    "    logits = model.forward(img)\n",
    "ps = F.softmax(logits, dim=1)\n",
    "view_classify(img.view(1,28,28), ps, version='Fashion')"
   ]
  },
  {
   "cell_type": "code",
   "execution_count": null,
   "id": "f386b9c8",
   "metadata": {},
   "outputs": [],
   "source": []
  }
 ],
 "metadata": {
  "kernelspec": {
   "display_name": "Python 3 (ipykernel)",
   "language": "python",
   "name": "python3"
  },
  "language_info": {
   "codemirror_mode": {
    "name": "ipython",
    "version": 3
   },
   "file_extension": ".py",
   "mimetype": "text/x-python",
   "name": "python",
   "nbconvert_exporter": "python",
   "pygments_lexer": "ipython3",
   "version": "3.9.10"
  }
 },
 "nbformat": 4,
 "nbformat_minor": 5
}
