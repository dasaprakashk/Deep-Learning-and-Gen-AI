{
 "cells": [
  {
   "cell_type": "code",
   "execution_count": 25,
   "id": "543304bf",
   "metadata": {},
   "outputs": [],
   "source": [
    "import torch\n",
    "import matplotlib.pyplot as plt"
   ]
  },
  {
   "cell_type": "code",
   "execution_count": 2,
   "id": "46786081",
   "metadata": {},
   "outputs": [],
   "source": [
    "def activation(x):\n",
    "    return 1/(1+torch.exp(-x))"
   ]
  },
  {
   "cell_type": "markdown",
   "id": "da3cd7a6",
   "metadata": {},
   "source": [
    "**Single Layer NN**"
   ]
  },
  {
   "cell_type": "code",
   "execution_count": 3,
   "id": "10f73b22",
   "metadata": {},
   "outputs": [],
   "source": [
    "torch.manual_seed(7)\n",
    "features = torch.randn((1,5))\n",
    "weights = torch.rand_like(features)\n",
    "bias = torch.randn((1,1))"
   ]
  },
  {
   "cell_type": "code",
   "execution_count": 9,
   "id": "67a2b445",
   "metadata": {},
   "outputs": [
    {
     "data": {
      "text/plain": [
       "tensor([[0.6140]])"
      ]
     },
     "execution_count": 9,
     "metadata": {},
     "output_type": "execute_result"
    }
   ],
   "source": [
    "activation(torch.sum(features*weights) + bias)"
   ]
  },
  {
   "cell_type": "code",
   "execution_count": 13,
   "id": "a61c16be",
   "metadata": {},
   "outputs": [
    {
     "data": {
      "text/plain": [
       "tensor([[0.6140]])"
      ]
     },
     "execution_count": 13,
     "metadata": {},
     "output_type": "execute_result"
    }
   ],
   "source": [
    "activation(torch.matmul(features, weights.T) + bias)"
   ]
  },
  {
   "cell_type": "markdown",
   "id": "91acecf8",
   "metadata": {},
   "source": [
    "**Multi-Layer NN**"
   ]
  },
  {
   "cell_type": "code",
   "execution_count": 14,
   "id": "ed76f786",
   "metadata": {},
   "outputs": [],
   "source": [
    "torch.manual_seed(7)\n",
    "features = torch.randn((1,3))\n",
    "n_input = features.shape[1]\n",
    "n_hidden = 2\n",
    "n_output = 1\n",
    "W1 = torch.randn((n_input, n_hidden))\n",
    "W2 = torch.randn((n_hidden, n_output))\n",
    "B1 = torch.randn(1, n_hidden)\n",
    "B2 = torch.randn(1, n_output)"
   ]
  },
  {
   "cell_type": "code",
   "execution_count": 17,
   "id": "fa042857",
   "metadata": {},
   "outputs": [
    {
     "data": {
      "text/plain": [
       "tensor([[0.3171]])"
      ]
     },
     "execution_count": 17,
     "metadata": {},
     "output_type": "execute_result"
    }
   ],
   "source": [
    "H = activation(torch.matmul(features, W1) + B1)\n",
    "O = activation(torch.matmul(H, W2) + B2)\n",
    "O"
   ]
  },
  {
   "cell_type": "markdown",
   "id": "dbcbb5cb",
   "metadata": {},
   "source": [
    "**Neural Networks with PyTorch**"
   ]
  },
  {
   "cell_type": "code",
   "execution_count": 22,
   "id": "815c5f19",
   "metadata": {},
   "outputs": [],
   "source": [
    "from torchvision import datasets, transforms\n",
    "\n",
    "#Transform to normalize the data\n",
    "transform = transforms.Compose([transforms.ToTensor(),\n",
    "                               transforms.Normalize((0.5), (0.5))])\n",
    "trainset = datasets.MNIST('MNIST_data/', download=True, train=True, transform=transform)\n",
    "trainloader = torch.utils.data.DataLoader(trainset, batch_size=64, shuffle=True)"
   ]
  },
  {
   "cell_type": "code",
   "execution_count": 23,
   "id": "7fc8985e",
   "metadata": {},
   "outputs": [
    {
     "name": "stdout",
     "output_type": "stream",
     "text": [
      "<class 'torch.Tensor'>\n",
      "torch.Size([64, 1, 28, 28])\n",
      "torch.Size([64])\n"
     ]
    }
   ],
   "source": [
    "dataiter = iter(trainloader)\n",
    "images, labels = dataiter.next()\n",
    "print(type(images))\n",
    "print(images.shape)\n",
    "print(labels.shape)"
   ]
  },
  {
   "cell_type": "code",
   "execution_count": 27,
   "id": "1ffdacb3",
   "metadata": {},
   "outputs": [
    {
     "data": {
      "text/plain": [
       "<matplotlib.image.AxesImage at 0x176ffe070>"
      ]
     },
     "execution_count": 27,
     "metadata": {},
     "output_type": "execute_result"
    },
    {
     "data": {
      "image/png": "[encoded data removed]",
      "text/plain": [
       "<Figure size 432x288 with 1 Axes>"
      ]
     },
     "metadata": {
      "needs_background": "light"
     },
     "output_type": "display_data"
    }
   ],
   "source": [
    "plt.imshow(images[1].numpy().squeeze(), cmap='Greys_r')"
   ]
  },
  {
   "cell_type": "code",
   "execution_count": 28,
   "id": "25d2d7be",
   "metadata": {},
   "outputs": [],
   "source": [
    "inputs = images.view(images.shape[0], -1)\n",
    "w1 = torch.randn(784, 256)\n",
    "b1 = torch.randn(256)\n",
    "w2 = torch.randn(256, 10)\n",
    "b2 = torch.randn(10)\n",
    "\n",
    "h = activation(torch.matmul(inputs, w1) + b1)\n",
    "out = torch.matmul(h, w2) + b2"
   ]
  },
  {
   "cell_type": "code",
   "execution_count": 34,
   "id": "392f0f93",
   "metadata": {},
   "outputs": [],
   "source": [
    "def softmax(x):\n",
    "    return torch.exp(x) / torch.sum(torch.exp(x), dim=1).view(-1,1)"
   ]
  },
  {
   "cell_type": "code",
   "execution_count": 37,
   "id": "426a08ee",
   "metadata": {},
   "outputs": [
    {
     "name": "stdout",
     "output_type": "stream",
     "text": [
      "torch.Size([64, 10])\n",
      "tensor([1.0000, 1.0000, 1.0000, 1.0000, 1.0000, 1.0000, 1.0000, 1.0000, 1.0000,\n",
      "        1.0000, 1.0000, 1.0000, 1.0000, 1.0000, 1.0000, 1.0000, 1.0000, 1.0000,\n",
      "        1.0000, 1.0000, 1.0000, 1.0000, 1.0000, 1.0000, 1.0000, 1.0000, 1.0000,\n",
      "        1.0000, 1.0000, 1.0000, 1.0000, 1.0000, 1.0000, 1.0000, 1.0000, 1.0000,\n",
      "        1.0000, 1.0000, 1.0000, 1.0000, 1.0000, 1.0000, 1.0000, 1.0000, 1.0000,\n",
      "        1.0000, 1.0000, 1.0000, 1.0000, 1.0000, 1.0000, 1.0000, 1.0000, 1.0000,\n",
      "        1.0000, 1.0000, 1.0000, 1.0000, 1.0000, 1.0000, 1.0000, 1.0000, 1.0000,\n",
      "        1.0000])\n"
     ]
    },
    {
     "data": {
      "text/plain": [
       "tensor([6, 6, 6, 6, 6, 6, 8, 6, 6, 6, 6, 6, 6, 6, 6, 6, 6, 8, 6, 8, 8, 6, 6, 6,\n",
       "        6, 8, 6, 6, 6, 6, 6, 6, 6, 6, 6, 6, 6, 6, 8, 6, 6, 6, 6, 6, 6, 6, 6, 6,\n",
       "        6, 8, 6, 6, 6, 6, 8, 6, 8, 8, 6, 6, 8, 8, 6, 6])"
      ]
     },
     "execution_count": 37,
     "metadata": {},
     "output_type": "execute_result"
    }
   ],
   "source": [
    "probs = softmax(out)\n",
    "print(probs.shape)\n",
    "print(probs.sum(dim=1))\n",
    "torch.argmax(probs, dim=1)"
   ]
  },
  {
   "cell_type": "markdown",
   "id": "77c2e295",
   "metadata": {},
   "source": [
    "**Building Neural Networks with torch NN**"
   ]
  },
  {
   "cell_type": "code",
   "execution_count": 38,
   "id": "93217a14",
   "metadata": {},
   "outputs": [],
   "source": [
    "from torch import nn"
   ]
  },
  {
   "cell_type": "code",
   "execution_count": 39,
   "id": "638117fe",
   "metadata": {},
   "outputs": [],
   "source": [
    "class Network(nn.Module):\n",
    "    def __init__(self):\n",
    "        super().__init__()\n",
    "        \n",
    "        self.hidden = nn.Linear(784, 256)\n",
    "        self.out = nn.Linear(256, 10)\n",
    "        self.sigmoid = nn.Sigmoid()\n",
    "        self.softmax = nn.Softmax(dim=1)\n",
    "        \n",
    "    def forward(self, x):\n",
    "        x = self.hidden(x)\n",
    "        x = self.sigmoid(x)\n",
    "        x = self.out(x)\n",
    "        x = self.softmax(x)\n",
    "        return x"
   ]
  },
  {
   "cell_type": "code",
   "execution_count": 40,
   "id": "728f043c",
   "metadata": {},
   "outputs": [
    {
     "data": {
      "text/plain": [
       "Network(\n",
       "  (hidden): Linear(in_features=784, out_features=256, bias=True)\n",
       "  (out): Linear(in_features=256, out_features=10, bias=True)\n",
       "  (sigmoid): Sigmoid()\n",
       "  (softmax): Softmax(dim=1)\n",
       ")"
      ]
     },
     "execution_count": 40,
     "metadata": {},
     "output_type": "execute_result"
    }
   ],
   "source": [
    "model = Network()\n",
    "model"
   ]
  },
  {
   "cell_type": "code",
   "execution_count": 44,
   "id": "e80c99e2",
   "metadata": {},
   "outputs": [
    {
     "name": "stdout",
     "output_type": "stream",
     "text": [
      "tensor(-0.1014, grad_fn=<NllLossBackward0>)\n"
     ]
    }
   ],
   "source": [
    "model = nn.Sequential(nn.Linear(784, 128),\n",
    "                     nn.ReLU(),\n",
    "                     nn.Linear(128, 64),\n",
    "                     nn.ReLU(),\n",
    "                     nn.Linear(64, 10),\n",
    "                     nn.LogSoftmax(dim = 1))\n",
    "criterion = nn.NLLLoss()\n",
    "images, labels = next(iter(trainloader))\n",
    "images = images.view(images.shape[0], -1)\n",
    "logits = model(images)\n",
    "loss = criterion(logits, labels)\n",
    "print(loss)"
   ]
  },
  {
   "cell_type": "code",
   "execution_count": 45,
   "id": "e0343ceb",
   "metadata": {},
   "outputs": [
    {
     "name": "stdout",
     "output_type": "stream",
     "text": [
      "Before backward pass: \n",
      " None\n",
      "After backward pass: \n",
      " tensor([[ 3.9832e-06,  3.9832e-06,  3.9832e-06,  ...,  3.9832e-06,\n",
      "          3.9832e-06,  3.9832e-06],\n",
      "        [-1.2686e-05, -1.2686e-05, -1.2686e-05,  ..., -1.2686e-05,\n",
      "         -1.2686e-05, -1.2686e-05],\n",
      "        [ 1.4070e-04,  1.4070e-04,  1.4070e-04,  ...,  1.4070e-04,\n",
      "          1.4070e-04,  1.4070e-04],\n",
      "        ...,\n",
      "        [-2.8999e-05, -2.8999e-05, -2.8999e-05,  ..., -2.8999e-05,\n",
      "         -2.8999e-05, -2.8999e-05],\n",
      "        [ 2.2273e-04,  2.2273e-04,  2.2273e-04,  ...,  2.2273e-04,\n",
      "          2.2273e-04,  2.2273e-04],\n",
      "        [ 2.7212e-05,  2.7212e-05,  2.7212e-05,  ...,  2.7212e-05,\n",
      "          2.7212e-05,  2.7212e-05]])\n"
     ]
    }
   ],
   "source": [
    "print('Before backward pass: \\n', model[0].weight.grad)\n",
    "loss.backward()\n",
    "print('After backward pass: \\n', model[0].weight.grad)"
   ]
  },
  {
   "cell_type": "code",
   "execution_count": 46,
   "id": "48ff58eb",
   "metadata": {},
   "outputs": [],
   "source": [
    "from torch import optim\n",
    "optimizer = optim.SGD(model.parameters(),lr=0.01)"
   ]
  },
  {
   "cell_type": "code",
   "execution_count": 51,
   "id": "585786bf",
   "metadata": {},
   "outputs": [
    {
     "name": "stdout",
     "output_type": "stream",
     "text": [
      "Initial weights -  Parameter containing:\n",
      "tensor([[ 0.0329, -0.0330, -0.0044,  ...,  0.0283,  0.0233,  0.0189],\n",
      "        [-0.0154, -0.0285,  0.0200,  ...,  0.0288,  0.0107, -0.0057],\n",
      "        [ 0.0180, -0.0033,  0.0139,  ...,  0.0352, -0.0264,  0.0194],\n",
      "        ...,\n",
      "        [-0.0195, -0.0111, -0.0263,  ...,  0.0228,  0.0169,  0.0161],\n",
      "        [ 0.0264,  0.0025, -0.0225,  ...,  0.0188,  0.0070, -0.0144],\n",
      "        [ 0.0193,  0.0309,  0.0026,  ...,  0.0080,  0.0260, -0.0191]],\n",
      "       requires_grad=True)\n",
      "Gradient -  tensor([[-9.0057e-08, -9.0057e-08, -9.0057e-08,  ..., -9.0057e-08,\n",
      "         -9.0057e-08, -9.0057e-08],\n",
      "        [ 2.9394e-04,  2.9394e-04,  2.9394e-04,  ...,  2.9394e-04,\n",
      "          2.9394e-04,  2.9394e-04],\n",
      "        [-2.7239e-04, -2.7239e-04, -2.7239e-04,  ..., -2.7239e-04,\n",
      "         -2.7239e-04, -2.7239e-04],\n",
      "        ...,\n",
      "        [ 5.4765e-06,  5.4765e-06,  5.4765e-06,  ...,  5.4765e-06,\n",
      "          5.4765e-06,  5.4765e-06],\n",
      "        [ 3.3749e-04,  3.3749e-04,  3.3749e-04,  ...,  3.3749e-04,\n",
      "          3.3749e-04,  3.3749e-04],\n",
      "        [ 3.8088e-05,  3.8088e-05,  3.8088e-05,  ...,  3.8088e-05,\n",
      "          3.8088e-05,  3.8088e-05]])\n",
      "Updated weights -  Parameter containing:\n",
      "tensor([[ 0.0329, -0.0330, -0.0044,  ...,  0.0283,  0.0233,  0.0189],\n",
      "        [-0.0154, -0.0285,  0.0200,  ...,  0.0288,  0.0107, -0.0057],\n",
      "        [ 0.0180, -0.0033,  0.0139,  ...,  0.0353, -0.0264,  0.0194],\n",
      "        ...,\n",
      "        [-0.0195, -0.0111, -0.0263,  ...,  0.0228,  0.0169,  0.0161],\n",
      "        [ 0.0264,  0.0025, -0.0225,  ...,  0.0188,  0.0070, -0.0144],\n",
      "        [ 0.0193,  0.0309,  0.0026,  ...,  0.0080,  0.0260, -0.0191]],\n",
      "       requires_grad=True)\n"
     ]
    }
   ],
   "source": [
    "print('Initial weights - ', model[0].weight)\n",
    "\n",
    "images, labels = next(iter(trainloader))\n",
    "images.resize_(64, 784)\n",
    "\n",
    "#Clear the gradients\n",
    "optimizer.zero_grad()\n",
    "\n",
    "#Forward pass, backward pass, update weights\n",
    "output = model.forward(images)\n",
    "loss = criterion(output, labels)\n",
    "loss.backward()\n",
    "print('Gradient - ', model[0].weight.grad)\n",
    "#Take an update step and update new weights\n",
    "optimizer.step()\n",
    "print('Updated weights - ', model[0].weight)"
   ]
  },
  {
   "cell_type": "markdown",
   "id": "2fc83f34",
   "metadata": {},
   "source": [
    "**Complete Training**"
   ]
  },
  {
   "cell_type": "code",
   "execution_count": 55,
   "id": "cbc575e8",
   "metadata": {},
   "outputs": [
    {
     "name": "stdout",
     "output_type": "stream",
     "text": [
      "Training Loss:1.0281863936356135\n",
      "Training Loss:0.3872841634888893\n",
      "Training Loss:0.32758905771158653\n",
      "Training Loss:0.29664912068449867\n",
      "Training Loss:0.2705866731226698\n"
     ]
    }
   ],
   "source": [
    "model = nn.Sequential(nn.Linear(784, 128),\n",
    "                     nn.ReLU(),\n",
    "                     nn.Linear(128, 64),\n",
    "                     nn.ReLU(),\n",
    "                     nn.Linear(64, 10),\n",
    "                     nn.LogSoftmax(dim=1))\n",
    "criterion = nn.NLLLoss()\n",
    "optimizer = optim.SGD(model.parameters(), lr=0.01)\n",
    "\n",
    "epochs = 5\n",
    "for e in range(epochs):\n",
    "    running_loss = 0\n",
    "    for images, labels in trainloader:\n",
    "        images = images.resize_(images.shape[0], 784)\n",
    "        \n",
    "        optimizer.zero_grad()\n",
    "        \n",
    "        output = model.forward(images)\n",
    "        loss = criterion(output, labels)\n",
    "        loss.backward()\n",
    "        optimizer.step()\n",
    "        \n",
    "        running_loss += loss.item()\n",
    "    else:\n",
    "        print(f'Training Loss:{running_loss/len(trainloader)}')"
   ]
  },
  {
   "cell_type": "code",
   "execution_count": 60,
   "id": "e7fefed8",
   "metadata": {},
   "outputs": [],
   "source": [
    "import numpy as np\n",
    "def view_classify(img, ps, version=\"MNIST\"):\n",
    "    ''' Function for viewing an image and it's predicted classes.\n",
    "    '''\n",
    "    ps = ps.data.numpy().squeeze()\n",
    "\n",
    "    fig, (ax1, ax2) = plt.subplots(figsize=(6,9), ncols=2)\n",
    "    ax1.imshow(img.resize_(1, 28, 28).numpy().squeeze())\n",
    "    ax1.axis('off')\n",
    "    ax2.barh(np.arange(10), ps)\n",
    "    ax2.set_aspect(0.1)\n",
    "    ax2.set_yticks(np.arange(10))\n",
    "    if version == \"MNIST\":\n",
    "        ax2.set_yticklabels(np.arange(10))\n",
    "    elif version == \"Fashion\":\n",
    "        ax2.set_yticklabels(['T-shirt/top',\n",
    "                            'Trouser',\n",
    "                            'Pullover',\n",
    "                            'Dress',\n",
    "                            'Coat',\n",
    "                            'Sandal',\n",
    "                            'Shirt',\n",
    "                            'Sneaker',\n",
    "                            'Bag',\n",
    "                            'Ankle Boot'], size='small');\n",
    "    ax2.set_title('Class Probability')\n",
    "    ax2.set_xlim(0, 1.1)\n",
    "\n",
    "    plt.tight_layout()"
   ]
  },
  {
   "cell_type": "code",
   "execution_count": 62,
   "id": "86d55a1c",
   "metadata": {},
   "outputs": [
    {
     "data": {
      "image/png": "[encoded data removed]",
      "text/plain": [
       "<Figure size 432x648 with 2 Axes>"
      ]
     },
     "metadata": {
      "needs_background": "light"
     },
     "output_type": "display_data"
    }
   ],
   "source": [
    "import torch.nn.functional as F\n",
    "images, labels = next(iter(trainloader))\n",
    "img = images[0].resize(1, 784)\n",
    "with torch.no_grad():\n",
    "    logits = model.forward(img)\n",
    "ps = F.softmax(logits, dim=1)\n",
    "view_classify(img.view(1,28,28), ps)"
   ]
  },
  {
   "cell_type": "code",
   "execution_count": null,
   "id": "5631721a",
   "metadata": {},
   "outputs": [],
   "source": []
  }
 ],
 "metadata": {
  "kernelspec": {
   "display_name": "Python 3 (ipykernel)",
   "language": "python",
   "name": "python3"
  },
  "language_info": {
   "codemirror_mode": {
    "name": "ipython",
    "version": 3
   },
   "file_extension": ".py",
   "mimetype": "text/x-python",
   "name": "python",
   "nbconvert_exporter": "python",
   "pygments_lexer": "ipython3",
   "version": "3.9.10"
  }
 },
 "nbformat": 4,
 "nbformat_minor": 5
}
